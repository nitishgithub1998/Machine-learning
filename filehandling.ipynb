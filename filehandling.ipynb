{
  "nbformat": 4,
  "nbformat_minor": 0,
  "metadata": {
    "colab": {
      "name": "filehandling.ipynb",
      "version": "0.3.2",
      "provenance": [],
      "collapsed_sections": [],
      "include_colab_link": true
    },
    "kernelspec": {
      "name": "python3",
      "display_name": "Python 3"
    }
  },
  "cells": [
    {
      "cell_type": "markdown",
      "metadata": {
        "id": "view-in-github",
        "colab_type": "text"
      },
      "source": [
        "<a href=\"https://colab.research.google.com/github/nitishgithub1998/hello/blob/nitishgithub1998-patch-1/filehandling.ipynb\" target=\"_parent\"><img src=\"https://colab.research.google.com/assets/colab-badge.svg\" alt=\"Open In Colab\"/></a>"
      ]
    },
    {
      "cell_type": "code",
      "metadata": {
        "id": "MiFOtVKXf-WE",
        "colab_type": "code",
        "colab": {}
      },
      "source": [
        "#!/usr/bin/python3\n",
        "\n",
        "import  sys\n",
        "\n",
        "data=sys.argv[1:]\n",
        "\n",
        "#  create a new file  and  write  data no read possible\n",
        "\n",
        "f=open(\"ok.txt\",'w')\n",
        "\n",
        "for  i  in   data:\n",
        "\tf.write(i)\n",
        "  \n",
        "\tf.write(\"\\n\")\n",
        "  \n",
        "f.close()\n",
        "# read the just  create file \n",
        "\n",
        "f=open(\"ok.txt\",'r')\n",
        "\n",
        "print(f.read())\n",
        "\n",
        "f.close()\n",
        "\n",
        "# read &  write     w+"
      ],
      "execution_count": 0,
      "outputs": []
    }
  ]
}