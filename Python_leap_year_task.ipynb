{
  "nbformat": 4,
  "nbformat_minor": 0,
  "metadata": {
    "colab": {
      "name": "Python_leap_year_task.ipynb",
      "version": "0.3.2",
      "provenance": [],
      "collapsed_sections": [],
      "include_colab_link": true
    },
    "kernelspec": {
      "name": "python3",
      "display_name": "Python 3"
    }
  },
  "cells": [
    {
      "cell_type": "markdown",
      "metadata": {
        "id": "view-in-github",
        "colab_type": "text"
      },
      "source": [
        "<a href=\"https://colab.research.google.com/github/nitishgithub1998/hello/blob/master/Python_leap_year_task.ipynb\" target=\"_parent\"><img src=\"https://colab.research.google.com/assets/colab-badge.svg\" alt=\"Open In Colab\"/></a>"
      ]
    },
    {
      "cell_type": "code",
      "metadata": {
        "id": "taBDQ228-6kh",
        "colab_type": "code",
        "colab": {
          "base_uri": "https://localhost:8080/",
          "height": 50
        },
        "outputId": "90de691b-e6f5-427c-dad2-b4e2e0a6afdb"
      },
      "source": [
        "year=int(input(\"enter a year:\"))\n",
        "if(year % 4)==0:\n",
        "        if(year % 100)==0:\n",
        "                if(year % 400)==0:\n",
        "                        print(\"{0} is a leap year\".format(year))\n",
        "                else:\n",
        "                        print(\"{0} is not a leap year\".format(year))\n",
        "        else:\n",
        "                print(\"{0} is a leap year\".format(year))\n",
        "else:\n",
        "        print(\"{0} is not a leap year\".format(year))\n"
      ],
      "execution_count": 3,
      "outputs": [
        {
          "output_type": "stream",
          "text": [
            "enter a year:1905\n",
            "1905 is not a leap year\n"
          ],
          "name": "stdout"
        }
      ]
    },
    {
      "cell_type": "code",
      "metadata": {
        "id": "IjSlI-rA-79a",
        "colab_type": "code",
        "colab": {
          "base_uri": "https://localhost:8080/",
          "height": 50
        },
        "outputId": "ad74080a-1b7b-403e-eae7-94fe1c1941b3"
      },
      "source": [
        "year=int(input(\"enter a year:\"))\n",
        "if(year % 4)==0:\n",
        "        if(year % 100)==0:\n",
        "                if(year % 400)==0:\n",
        "                        print(\"{0} is a leap year\".format(year))\n",
        "                else:\n",
        "                        print(\"{0} is not a leap year\".format(year))\n",
        "        else:\n",
        "                print(\"{0} is a leap year\".format(year))\n",
        "else:\n",
        "        print(\"{0} is not a leap year\".format(year))\n"
      ],
      "execution_count": 4,
      "outputs": [
        {
          "output_type": "stream",
          "text": [
            "enter a year:1904\n",
            "1904 is a leap year\n"
          ],
          "name": "stdout"
        }
      ]
    },
    {
      "cell_type": "code",
      "metadata": {
        "id": "7L8TdTrb_F8s",
        "colab_type": "code",
        "colab": {}
      },
      "source": [
        "190"
      ],
      "execution_count": 0,
      "outputs": []
    }
  ]
}