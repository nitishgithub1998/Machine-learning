{
  "nbformat": 4,
  "nbformat_minor": 0,
  "metadata": {
    "colab": {
      "name": "nlp_examples_defi.ipynb",
      "version": "0.3.2",
      "provenance": [],
      "collapsed_sections": [],
      "include_colab_link": true
    },
    "kernelspec": {
      "name": "python3",
      "display_name": "Python 3"
    }
  },
  "cells": [
    {
      "cell_type": "markdown",
      "metadata": {
        "id": "view-in-github",
        "colab_type": "text"
      },
      "source": [
        "<a href=\"https://colab.research.google.com/github/nitishgithub1998/hello/blob/nitishgithub1998-patch-1/nlp_examples_defi.ipynb\" target=\"_parent\"><img src=\"https://colab.research.google.com/assets/colab-badge.svg\" alt=\"Open In Colab\"/></a>"
      ]
    },
    {
      "cell_type": "code",
      "metadata": {
        "id": "8LhCPSeOJ6Y_",
        "colab_type": "code",
        "colab": {}
      },
      "source": [
        "from nltk.corpus import wordnet\n",
        "import time"
      ],
      "execution_count": 0,
      "outputs": []
    },
    {
      "cell_type": "code",
      "metadata": {
        "id": "noaWopaTl-GD",
        "colab_type": "code",
        "colab": {}
      },
      "source": [
        "import nltk\n",
        "nltk.download\n",
        "nltk.download('wordnet')"
      ],
      "execution_count": 0,
      "outputs": []
    },
    {
      "cell_type": "code",
      "metadata": {
        "id": "pc4TYf4lKrNo",
        "colab_type": "code",
        "outputId": "e8425b2c-7d7e-44f7-f9d4-80a4ce7a216f",
        "colab": {
          "base_uri": "https://localhost:8080/",
          "height": 588
        }
      },
      "source": [
        "ws"
      ],
      "execution_count": 0,
      "outputs": [
        {
          "output_type": "execute_result",
          "data": {
            "text/plain": [
              "[Synset('work.n.01'),\n",
              " Synset('work.n.02'),\n",
              " Synset('employment.n.02'),\n",
              " Synset('study.n.02'),\n",
              " Synset('work.n.05'),\n",
              " Synset('workplace.n.01'),\n",
              " Synset('oeuvre.n.01'),\n",
              " Synset('work.v.01'),\n",
              " Synset('work.v.02'),\n",
              " Synset('work.v.03'),\n",
              " Synset('function.v.01'),\n",
              " Synset('work.v.05'),\n",
              " Synset('exercise.v.03'),\n",
              " Synset('make.v.36'),\n",
              " Synset('work.v.08'),\n",
              " Synset('work.v.09'),\n",
              " Synset('work.v.10'),\n",
              " Synset('bring.v.03'),\n",
              " Synset('work.v.12'),\n",
              " Synset('cultivate.v.02'),\n",
              " Synset('work.v.14'),\n",
              " Synset('influence.v.01'),\n",
              " Synset('work.v.16'),\n",
              " Synset('work.v.17'),\n",
              " Synset('work.v.18'),\n",
              " Synset('work.v.19'),\n",
              " Synset('shape.v.02'),\n",
              " Synset('work.v.21'),\n",
              " Synset('knead.v.01'),\n",
              " Synset('exploit.v.01'),\n",
              " Synset('solve.v.01'),\n",
              " Synset('ferment.v.03'),\n",
              " Synset('sour.v.01'),\n",
              " Synset('work.v.27')]"
            ]
          },
          "metadata": {
            "tags": []
          },
          "execution_count": 6
        }
      ]
    },
    {
      "cell_type": "code",
      "metadata": {
        "id": "i0cclRIWKXon",
        "colab_type": "code",
        "outputId": "54c641cd-e09b-476e-8a9b-bbb1616651e4",
        "colab": {
          "base_uri": "https://localhost:8080/",
          "height": 34
        }
      },
      "source": [
        "len(ws)"
      ],
      "execution_count": 0,
      "outputs": [
        {
          "output_type": "execute_result",
          "data": {
            "text/plain": [
              "34"
            ]
          },
          "metadata": {
            "tags": []
          },
          "execution_count": 7
        }
      ]
    },
    {
      "cell_type": "code",
      "metadata": {
        "id": "QqYWogetLGlJ",
        "colab_type": "code",
        "outputId": "b03db9df-14c8-4e72-9784-29c09dd33d63",
        "colab": {
          "base_uri": "https://localhost:8080/",
          "height": 34
        }
      },
      "source": [
        "ws[0].definition"
      ],
      "execution_count": 0,
      "outputs": [
        {
          "output_type": "execute_result",
          "data": {
            "text/plain": [
              "Synset('work.n.01')"
            ]
          },
          "metadata": {
            "tags": []
          },
          "execution_count": 8
        }
      ]
    },
    {
      "cell_type": "code",
      "metadata": {
        "id": "V7w4iXf6LNAp",
        "colab_type": "code",
        "outputId": "2baffc8c-6b20-45a9-955e-6a7cadfb1316",
        "colab": {
          "base_uri": "https://localhost:8080/",
          "height": 34
        }
      },
      "source": [
        "ws[2]."
      ],
      "execution_count": 0,
      "outputs": [
        {
          "output_type": "execute_result",
          "data": {
            "text/plain": [
              "Synset('employment.n.02')"
            ]
          },
          "metadata": {
            "tags": []
          },
          "execution_count": 9
        }
      ]
    },
    {
      "cell_type": "code",
      "metadata": {
        "id": "WnvCfNiULPge",
        "colab_type": "code",
        "outputId": "62aaed45-db32-448a-97d6-09adb413915a",
        "colab": {
          "base_uri": "https://localhost:8080/",
          "height": 34
        }
      },
      "source": [
        "ws[1].definition()"
      ],
      "execution_count": 0,
      "outputs": [
        {
          "output_type": "execute_result",
          "data": {
            "text/plain": [
              "'a product produced or accomplished through the effort or activity or agency of a person or thing'"
            ]
          },
          "metadata": {
            "tags": []
          },
          "execution_count": 10
        }
      ]
    },
    {
      "cell_type": "code",
      "metadata": {
        "id": "6uO7PjNcLVUZ",
        "colab_type": "code",
        "outputId": "e3a09962-6292-433a-f5c2-35f56c3dae04",
        "colab": {
          "base_uri": "https://localhost:8080/",
          "height": 34
        }
      },
      "source": [
        "ws[1].examples"
      ],
      "execution_count": 0,
      "outputs": [
        {
          "output_type": "execute_result",
          "data": {
            "text/plain": [
              "<bound method Synset.examples of Synset('work.n.02')>"
            ]
          },
          "metadata": {
            "tags": []
          },
          "execution_count": 11
        }
      ]
    },
    {
      "cell_type": "code",
      "metadata": {
        "id": "7QPaUP_BLbC4",
        "colab_type": "code",
        "outputId": "1bcbb88a-3cd2-45b1-e342-b859a3335c9f",
        "colab": {
          "base_uri": "https://localhost:8080/",
          "height": 34
        }
      },
      "source": [
        "ws[0].examples"
      ],
      "execution_count": 0,
      "outputs": [
        {
          "output_type": "execute_result",
          "data": {
            "text/plain": [
              "<bound method Synset.examples of Synset('work.n.01')>"
            ]
          },
          "metadata": {
            "tags": []
          },
          "execution_count": 14
        }
      ]
    },
    {
      "cell_type": "code",
      "metadata": {
        "id": "jViAXhPQzJpv",
        "colab_type": "code",
        "colab": {}
      },
      "source": [
        "ws[1].examples"
      ],
      "execution_count": 0,
      "outputs": []
    },
    {
      "cell_type": "code",
      "metadata": {
        "id": "rbEQlk2jLevu",
        "colab_type": "code",
        "colab": {}
      },
      "source": [
        "#exploring all the book\n",
        "msg=input(\"enter your word\")\n",
        "for i in wordnet.synsets(msg):\n",
        "  print(\"___________________\")\n",
        "  print(i.definition())\n",
        "  print(\"___________________\")  # due to network cell is not runing but everything is right \n",
        "  print(i.examples())\n",
        "  time.sleep(10)                 "
      ],
      "execution_count": 0,
      "outputs": []
    },
    {
      "cell_type": "code",
      "metadata": {
        "id": "WU53yoN9L5vb",
        "colab_type": "code",
        "colab": {}
      },
      "source": [
        ""
      ],
      "execution_count": 0,
      "outputs": []
    },
    {
      "cell_type": "code",
      "metadata": {
        "id": "lwPZsQJrhB46",
        "colab_type": "code",
        "colab": {}
      },
      "source": [
        ""
      ],
      "execution_count": 0,
      "outputs": []
    }
  ]
}